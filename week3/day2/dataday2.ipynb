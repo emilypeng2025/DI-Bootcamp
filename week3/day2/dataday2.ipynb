{
 "cells": [
  {
   "cell_type": "code",
   "execution_count": 4,
   "id": "01fe9197-cd38-464a-a941-d00eef88d47c",
   "metadata": {},
   "outputs": [
    {
     "name": "stdout",
     "output_type": "stream",
     "text": [
      "   userId  id                                              title  \\\n",
      "0       1   1  sunt aut facere repellat provident occaecati e...   \n",
      "1       1   2                                       qui est esse   \n",
      "2       1   3  ea molestias quasi exercitationem repellat qui...   \n",
      "3       1   4                               eum et est occaecati   \n",
      "4       1   5                                 nesciunt quas odio   \n",
      "\n",
      "                                                body  \n",
      "0  quia et suscipit\\nsuscipit recusandae consequu...  \n",
      "1  est rerum tempore vitae\\nsequi sint nihil repr...  \n",
      "2  et iusto sed quo iure\\nvoluptatem occaecati om...  \n",
      "3  ullam et saepe reiciendis voluptatem adipisci\\...  \n",
      "4  repudiandae veniam quaerat sunt sed\\nalias aut...  \n"
     ]
    }
   ],
   "source": [
    "import pandas as pd\n",
    "\n",
    "json_data = pd.read_json('posts.json')\n",
    "print(json_data.head())"
   ]
  },
  {
   "cell_type": "code",
   "execution_count": 8,
   "id": "2b452304-e435-4c0e-89f7-3352813d3ccb",
   "metadata": {},
   "outputs": [
    {
     "name": "stdout",
     "output_type": "stream",
     "text": [
      "Requirement already satisfied: numpy in /opt/anaconda3/lib/python3.12/site-packages (1.26.4)\n",
      "Collecting faker\n",
      "  Using cached faker-37.3.0-py3-none-any.whl.metadata (15 kB)\n",
      "Requirement already satisfied: tzdata in /opt/anaconda3/lib/python3.12/site-packages (from faker) (2023.3)\n",
      "Using cached faker-37.3.0-py3-none-any.whl (1.9 MB)\n",
      "Installing collected packages: faker\n",
      "Successfully installed faker-37.3.0\n"
     ]
    }
   ],
   "source": [
    "!pip install numpy\n",
    "!pip install faker"
   ]
  },
  {
   "cell_type": "code",
   "execution_count": 9,
   "id": "64612cf3-cff5-4a86-9c61-ce97a84ecb94",
   "metadata": {},
   "outputs": [
    {
     "name": "stdout",
     "output_type": "stream",
     "text": [
      "              Name  Age\n",
      "0     Molly Arroyo   47\n",
      "1  Cheryl Martinez   32\n",
      "2     Mary Johnson   66\n",
      "3    Clayton Perez   28\n",
      "4     David Rangel   38\n"
     ]
    }
   ],
   "source": [
    "import numpy as np\n",
    "from faker import Faker\n",
    "\n",
    "fake = Faker()\n",
    "\n",
    "# Generating synthetic names and ages\n",
    "data = [(fake.name(), np.random.randint(18, 70)) for _ in range(100)]\n",
    "\n",
    "# Converting to a DataFrame\n",
    "import pandas as pd\n",
    "df = pd.DataFrame(data, columns=['Name', 'Age'])\n",
    "print(df.head())"
   ]
  },
  {
   "cell_type": "code",
   "execution_count": 11,
   "id": "8d10a7cb-88d8-48ed-8b56-8b72c0928f96",
   "metadata": {},
   "outputs": [
    {
     "data": {
      "text/plain": [
       "(array([ 99.,  98., 101., 109.,  92.,  92., 104., 113., 104.,  88.]),\n",
       " array([ 0. ,  9.9, 19.8, 29.7, 39.6, 49.5, 59.4, 69.3, 79.2, 89.1, 99. ]),\n",
       " <BarContainer object of 10 artists>)"
      ]
     },
     "execution_count": 11,
     "metadata": {},
     "output_type": "execute_result"
    },
    {
     "data": {
      "image/png": "[encoded data removed]",
      "text/plain": [
       "<Figure size 640x480 with 1 Axes>"
      ]
     },
     "metadata": {},
     "output_type": "display_data"
    }
   ],
   "source": [
    " import matplotlib.pyplot as plt\n",
    " plt.hist([np.random.randint(0, 100) for _ in range(1000)])\n"
   ]
  },
  {
   "cell_type": "code",
   "execution_count": null,
   "id": "8a204b8c-478d-46aa-b696-c974ff9ce9da",
   "metadata": {},
   "outputs": [],
   "source": []
  }
 ],
 "metadata": {
  "kernelspec": {
   "display_name": "Python [conda env:base] *",
   "language": "python",
   "name": "conda-base-py"
  },
  "language_info": {
   "codemirror_mode": {
    "name": "ipython",
    "version": 3
   },
   "file_extension": ".py",
   "mimetype": "text/x-python",
   "name": "python",
   "nbconvert_exporter": "python",
   "pygments_lexer": "ipython3",
   "version": "3.12.7"
  }
 },
 "nbformat": 4,
 "nbformat_minor": 5
}

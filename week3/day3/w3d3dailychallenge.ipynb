{
  "nbformat": 4,
  "nbformat_minor": 0,
  "metadata": {
    "colab": {
      "provenance": []
    },
    "kernelspec": {
      "name": "python3",
      "display_name": "Python 3"
    },
    "language_info": {
      "name": "python"
    }
  },
  "cells": [
    {
      "cell_type": "markdown",
      "source": [
        "What You Will Learn\n",
        "Advanced techniques for data normalization, reduction, and aggregation.\n",
        "Skills in gathering, exploring, integrating, and cleaning data using Python.\n",
        "Proficiency in using Pandas for complex data manipulation."
      ],
      "metadata": {
        "id": "f3ceptyeikun"
      }
    },
    {
      "cell_type": "code",
      "execution_count": 3,
      "metadata": {
        "colab": {
          "base_uri": "https://localhost:8080/"
        },
        "id": "LtF9D3IrlPoG",
        "outputId": "01553d42-8494-460d-af15-068e3aca51a8"
      },
      "outputs": [
        {
          "output_type": "stream",
          "name": "stdout",
          "text": [
            "   Unnamed: 0       job_title   job_type experience_level       location  \\\n",
            "0           0  Data scientist  Full Time           Senior  New York City   \n",
            "1           2  Data scientist  Full Time           Senior         Boston   \n",
            "2           3  Data scientist  Full Time           Senior         London   \n",
            "3           4  Data scientist  Full Time           Senior         Boston   \n",
            "4           5  Data scientist  Full Time           Senior  New York City   \n",
            "\n",
            "  salary_currency  salary  \n",
            "0             USD  149000  \n",
            "1             USD  120000  \n",
            "2             USD   68000  \n",
            "3             USD  120000  \n",
            "4             USD  149000  \n"
          ]
        }
      ],
      "source": [
        "import pandas as pd\n",
        "df = pd.read_csv('datascience_salaries.csv')\n",
        "print(df.head())"
      ]
    },
    {
      "cell_type": "code",
      "source": [
        "from sklearn.preprocessing import MinMaxScaler\n",
        "\n",
        "scaler = MinMaxScaler()\n",
        "df['salary'] = scaler.fit_transform(df[['salary']])"
      ],
      "metadata": {
        "id": "ln0aqG4_s0k8"
      },
      "execution_count": 4,
      "outputs": []
    },
    {
      "cell_type": "code",
      "source": [
        "from sklearn.decomposition import PCA\n",
        "from sklearn.preprocessing import StandardScaler\n",
        "\n",
        "#Select numerical columns only (for PCA)\n",
        "numeric = df.select_dtypes(include=['float64', 'int64'])\n",
        "\n",
        "\n",
        "# Scale the data\n",
        "scaled = StandardScaler().fit_transform(numeric)\n",
        "\n",
        "\n",
        "# Scale the data\n",
        "pca = PCA(n_components=2)\n",
        "reduced = pca.fit_transform(scaled)\n",
        "\n",
        "print(pd.DataFrame(reduced, columns=['PC1', 'PC2']).head())"
      ],
      "metadata": {
        "id": "d1cy3w8zT-wO",
        "outputId": "94c9e776-e703-423c-d326-c1d6422c01d9",
        "colab": {
          "base_uri": "https://localhost:8080/"
        }
      },
      "execution_count": 8,
      "outputs": [
        {
          "output_type": "stream",
          "name": "stdout",
          "text": [
            "        PC1       PC2\n",
            "0  0.811132 -2.846939\n",
            "1  0.183095 -2.214531\n",
            "2 -0.945867 -1.083384\n",
            "3  0.185280 -2.212346\n",
            "4  0.816595 -2.841476\n"
          ]
        }
      ]
    }
  ]
}
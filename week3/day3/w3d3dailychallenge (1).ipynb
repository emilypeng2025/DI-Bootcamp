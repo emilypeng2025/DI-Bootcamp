{
  "nbformat": 4,
  "nbformat_minor": 0,
  "metadata": {
    "colab": {
      "provenance": []
    },
    "kernelspec": {
      "name": "python3",
      "display_name": "Python 3"
    },
    "language_info": {
      "name": "python"
    }
  },
  "cells": [
    {
      "cell_type": "markdown",
      "source": [
        "What You Will Learn\n",
        "Advanced techniques for data normalization, reduction, and aggregation.\n",
        "Skills in gathering, exploring, integrating, and cleaning data using Python.\n",
        "Proficiency in using Pandas for complex data manipulation."
      ],
      "metadata": {
        "id": "f3ceptyeikun"
      }
    },
    {
      "cell_type": "code",
      "execution_count": 8,
      "metadata": {
        "colab": {
          "base_uri": "https://localhost:8080/"
        },
        "id": "LtF9D3IrlPoG",
        "outputId": "82f6fd0c-9c54-4ef2-cacc-3b1cffc8e471"
      },
      "outputs": [
        {
          "output_type": "stream",
          "name": "stdout",
          "text": [
            "   Unnamed: 0       job_title   job_type experience_level       location  \\\n",
            "0           0  Data scientist  Full Time           Senior  New York City   \n",
            "1           2  Data scientist  Full Time           Senior         Boston   \n",
            "2           3  Data scientist  Full Time           Senior         London   \n",
            "3           4  Data scientist  Full Time           Senior         Boston   \n",
            "4           5  Data scientist  Full Time           Senior  New York City   \n",
            "\n",
            "  salary_currency  salary  \n",
            "0             USD  149000  \n",
            "1             USD  120000  \n",
            "2             USD   68000  \n",
            "3             USD  120000  \n",
            "4             USD  149000  \n"
          ]
        }
      ],
      "source": [
        "import pandas as pd\n",
        "df = pd.read_csv('datascience_salaries.csv')\n",
        "print(df.head())"
      ]
    },
    {
      "cell_type": "code",
      "source": [
        "from sklearn.preprocessing import MinMaxScaler\n",
        "\n",
        "scaler = MinMaxScaler()\n",
        "df['salary_normalized'] = scaler.fit_transform(df[['salary']])"
      ],
      "metadata": {
        "id": "ln0aqG4_s0k8"
      },
      "execution_count": 9,
      "outputs": []
    },
    {
      "cell_type": "code",
      "source": [
        "from sklearn.decomposition import PCA\n",
        "from sklearn.preprocessing import StandardScaler\n",
        "import pandas as pd\n",
        "\n",
        "\n",
        "numeric_columns = df.select_dtypes(include=['int64', 'float64']).drop(columns=['salary', 'salary_normalized', 'Unnamed: 0'], errors='ignore').columns\n",
        "\n",
        "if len(numeric_columns) < 2:\n",
        "    print(\"Error: Not enough numeric columns (excluding 'salary', 'salary_normalized', and 'Unnamed: 0') for PCA with n_components=2.\")\n",
        "    # Handle this case, e.g., reduce n_components or skip PCA\n",
        "else:\n",
        "    pca = PCA(n_components=2)\n",
        "    reduced_data = pca.fit_transform(df[numeric_columns])\n",
        "\n",
        "    df['PCA1'] = reduced_data[:, 0]\n",
        "    df['PCA2'] = reduced_data[:, 1]\n",
        "\n",
        "    salary_stats = df.groupby('experience_level')['salary'].agg(['mean', 'median'])\n",
        "\n",
        "    print(salary_stats)\n",
        "\n",
        "# Re-print salary_stats if PCA was skipped\n",
        "if 'PCA1' not in df.columns:\n",
        "     salary_stats = df.groupby('experience_level')['salary'].agg(['mean', 'median'])\n",
        "     print(salary_stats)"
      ],
      "metadata": {
        "id": "d1cy3w8zT-wO",
        "outputId": "c556d87b-a073-4b2e-fe96-31b30a7c3909",
        "colab": {
          "base_uri": "https://localhost:8080/"
        }
      },
      "execution_count": 15,
      "outputs": [
        {
          "output_type": "stream",
          "name": "stdout",
          "text": [
            "Error: Not enough numeric columns (excluding 'salary', 'salary_normalized', and 'Unnamed: 0') for PCA with n_components=2.\n",
            "                          mean   median\n",
            "experience_level                       \n",
            "Entry             36111.111111  30000.0\n",
            "Executive         76076.923077  46000.0\n",
            "Mid               51786.885246  51000.0\n",
            "Senior            75088.033012  68000.0\n"
          ]
        }
      ]
    },
    {
      "cell_type": "code",
      "source": [
        "salary_stats = df.groupby('experience_level')['salary'].agg(['mean', 'median'])\n",
        "print(salary_stats)\n"
      ],
      "metadata": {
        "colab": {
          "base_uri": "https://localhost:8080/"
        },
        "id": "N0OX2fsfdiQS",
        "outputId": "745946d8-a9d9-4eeb-e231-4f7e25f0f3d1"
      },
      "execution_count": 5,
      "outputs": [
        {
          "output_type": "stream",
          "name": "stdout",
          "text": [
            "                      mean    median\n",
            "experience_level                    \n",
            "Entry             0.030864  0.000000\n",
            "Executive         0.232712  0.080808\n",
            "Mid               0.110035  0.106061\n",
            "Senior            0.227717  0.191919\n"
          ]
        }
      ]
    }
  ]
}
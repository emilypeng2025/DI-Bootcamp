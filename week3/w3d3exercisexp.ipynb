{
  "nbformat": 4,
  "nbformat_minor": 0,
  "metadata": {
    "colab": {
      "provenance": [],
      "authorship_tag": "ABX9TyOfTbj8bp/fdP7cNEQE+xhk",
      "include_colab_link": true
    },
    "kernelspec": {
      "name": "python3",
      "display_name": "Python 3"
    },
    "language_info": {
      "name": "python"
    }
  },
  "cells": [
    {
      "cell_type": "markdown",
      "metadata": {
        "id": "view-in-github",
        "colab_type": "text"
      },
      "source": [
        "<a href=\"https://colab.research.google.com/github/emilypeng2025/DI-Bootcamp/blob/main/w3d3exercisexp.ipynb\" target=\"_parent\"><img src=\"https://colab.research.google.com/assets/colab-badge.svg\" alt=\"Open In Colab\"/></a>"
      ]
    },
    {
      "cell_type": "code",
      "execution_count": 6,
      "metadata": {
        "colab": {
          "base_uri": "https://localhost:8080/"
        },
        "id": "3QbEESBIb1dT",
        "outputId": "c88f2fd5-5e6b-4e41-dbc0-b521004fb273"
      },
      "outputs": [
        {
          "output_type": "stream",
          "name": "stdout",
          "text": [
            "   PassengerId  Survived  Pclass  \\\n",
            "0            1         0       3   \n",
            "1            2         1       1   \n",
            "2            3         1       3   \n",
            "3            4         1       1   \n",
            "4            5         0       3   \n",
            "\n",
            "                                                Name     Sex   Age  SibSp  \\\n",
            "0                            Braund, Mr. Owen Harris    male  22.0      1   \n",
            "1  Cumings, Mrs. John Bradley (Florence Briggs Th...  female  38.0      1   \n",
            "2                             Heikkinen, Miss. Laina  female  26.0      0   \n",
            "3       Futrelle, Mrs. Jacques Heath (Lily May Peel)  female  35.0      1   \n",
            "4                           Allen, Mr. William Henry    male  35.0      0   \n",
            "\n",
            "   Parch            Ticket     Fare Cabin Embarked  \n",
            "0      0         A/5 21171   7.2500   NaN        S  \n",
            "1      0          PC 17599  71.2833   C85        C  \n",
            "2      0  STON/O2. 3101282   7.9250   NaN        S  \n",
            "3      0            113803  53.1000  C123        S  \n",
            "4      0            373450   8.0500   NaN        S  \n"
          ]
        }
      ],
      "source": [
        "import pandas as pd\n",
        "df = pd.read_csv(\"titanic.csv\")\n",
        "print(df.head())"
      ]
    },
    {
      "cell_type": "code",
      "source": [
        "print(f\"Rows before removing duplicated: {df.shape[0]}\")\n",
        "# Call the drop_duplicates method to get the DataFrame without duplicates\n",
        "titanic_data = df.drop_duplicates()\n",
        "print(f\"Rows after removing duplicated: {titanic_data.shape[0]}\")"
      ],
      "metadata": {
        "colab": {
          "base_uri": "https://localhost:8080/"
        },
        "id": "03bvSV6vhgvV",
        "outputId": "fdaa3111-ce60-4daf-8461-f87cc65ccf5d"
      },
      "execution_count": 26,
      "outputs": [
        {
          "output_type": "stream",
          "name": "stdout",
          "text": [
            "Rows before removing duplicated: 891\n",
            "Rows after removing duplicated: 891\n"
          ]
        }
      ]
    },
    {
      "cell_type": "markdown",
      "source": [
        "answer: there is no duplicate entries"
      ],
      "metadata": {
        "id": "CcgnDBt8i6CR"
      }
    },
    {
      "cell_type": "markdown",
      "source": [
        "exercise 2"
      ],
      "metadata": {
        "id": "n_n2i-3VjDYj"
      }
    },
    {
      "cell_type": "code",
      "source": [
        "missing_counts = df.isnull().sum()\n",
        "print(missing_counts)"
      ],
      "metadata": {
        "colab": {
          "base_uri": "https://localhost:8080/"
        },
        "id": "NxYlZDQbi3aE",
        "outputId": "bb7034ec-ed58-4d8e-d6f7-ef6127e032f3"
      },
      "execution_count": 7,
      "outputs": [
        {
          "output_type": "stream",
          "name": "stdout",
          "text": [
            "PassengerId      0\n",
            "Survived         0\n",
            "Pclass           0\n",
            "Name             0\n",
            "Sex              0\n",
            "Age            177\n",
            "SibSp            0\n",
            "Parch            0\n",
            "Ticket           0\n",
            "Fare             0\n",
            "Cabin          687\n",
            "Embarked         2\n",
            "dtype: int64\n"
          ]
        }
      ]
    },
    {
      "cell_type": "markdown",
      "source": [
        "for the age group, because there are 177 missing values, i used the median to replace the missing number"
      ],
      "metadata": {
        "id": "gj3hNViinrtt"
      }
    },
    {
      "cell_type": "code",
      "source": [
        "df['Age'] = df['Age'].fillna(df['Age'].median())"
      ],
      "metadata": {
        "id": "v-6xNstxmmp5"
      },
      "execution_count": 8,
      "outputs": []
    },
    {
      "cell_type": "markdown",
      "source": [
        "for the Cabin colomn I delete the whole colomn because there are too many missing values, and it is not critical."
      ],
      "metadata": {
        "id": "tv6c4lqjtMzX"
      }
    },
    {
      "cell_type": "code",
      "source": [
        "df_cleaned = df.drop(columns='Cabin')\n"
      ],
      "metadata": {
        "id": "mNZfreVPwCWL"
      },
      "execution_count": 9,
      "outputs": []
    },
    {
      "cell_type": "markdown",
      "source": [
        "for the embarked 2 missing numbers i will replace with a 0.\n",
        "# Fill missing values with a specific value (e.g., 0)\n",
        "#df_filled = df.fillna(0)"
      ],
      "metadata": {
        "id": "5u_kFoVkwhh7"
      }
    },
    {
      "cell_type": "code",
      "source": [
        "df['Embarked'] = df['Embarked'].fillna(df['Embarked'].mode()[0])"
      ],
      "metadata": {
        "id": "CRla25xwwsKf"
      },
      "execution_count": 10,
      "outputs": []
    },
    {
      "cell_type": "code",
      "source": [
        "print(df[\"Age\"])\n",
        "print(df_cleaned)\n",
        "print(df['Embarked'])"
      ],
      "metadata": {
        "colab": {
          "base_uri": "https://localhost:8080/"
        },
        "id": "zfUch8-_xoQU",
        "outputId": "bc27422f-092f-4742-fc74-cbab3906d1bf"
      },
      "execution_count": 11,
      "outputs": [
        {
          "output_type": "stream",
          "name": "stdout",
          "text": [
            "0      22.0\n",
            "1      38.0\n",
            "2      26.0\n",
            "3      35.0\n",
            "4      35.0\n",
            "       ... \n",
            "886    27.0\n",
            "887    19.0\n",
            "888    28.0\n",
            "889    26.0\n",
            "890    32.0\n",
            "Name: Age, Length: 891, dtype: float64\n",
            "     PassengerId  Survived  Pclass  \\\n",
            "0              1         0       3   \n",
            "1              2         1       1   \n",
            "2              3         1       3   \n",
            "3              4         1       1   \n",
            "4              5         0       3   \n",
            "..           ...       ...     ...   \n",
            "886          887         0       2   \n",
            "887          888         1       1   \n",
            "888          889         0       3   \n",
            "889          890         1       1   \n",
            "890          891         0       3   \n",
            "\n",
            "                                                  Name     Sex   Age  SibSp  \\\n",
            "0                              Braund, Mr. Owen Harris    male  22.0      1   \n",
            "1    Cumings, Mrs. John Bradley (Florence Briggs Th...  female  38.0      1   \n",
            "2                               Heikkinen, Miss. Laina  female  26.0      0   \n",
            "3         Futrelle, Mrs. Jacques Heath (Lily May Peel)  female  35.0      1   \n",
            "4                             Allen, Mr. William Henry    male  35.0      0   \n",
            "..                                                 ...     ...   ...    ...   \n",
            "886                              Montvila, Rev. Juozas    male  27.0      0   \n",
            "887                       Graham, Miss. Margaret Edith  female  19.0      0   \n",
            "888           Johnston, Miss. Catherine Helen \"Carrie\"  female  28.0      1   \n",
            "889                              Behr, Mr. Karl Howell    male  26.0      0   \n",
            "890                                Dooley, Mr. Patrick    male  32.0      0   \n",
            "\n",
            "     Parch            Ticket     Fare Embarked  \n",
            "0        0         A/5 21171   7.2500        S  \n",
            "1        0          PC 17599  71.2833        C  \n",
            "2        0  STON/O2. 3101282   7.9250        S  \n",
            "3        0            113803  53.1000        S  \n",
            "4        0            373450   8.0500        S  \n",
            "..     ...               ...      ...      ...  \n",
            "886      0            211536  13.0000        S  \n",
            "887      0            112053  30.0000        S  \n",
            "888      2        W./C. 6607  23.4500        S  \n",
            "889      0            111369  30.0000        C  \n",
            "890      0            370376   7.7500        Q  \n",
            "\n",
            "[891 rows x 11 columns]\n",
            "0      S\n",
            "1      C\n",
            "2      S\n",
            "3      S\n",
            "4      S\n",
            "      ..\n",
            "886    S\n",
            "887    S\n",
            "888    S\n",
            "889    C\n",
            "890    Q\n",
            "Name: Embarked, Length: 891, dtype: object\n"
          ]
        }
      ]
    },
    {
      "cell_type": "markdown",
      "source": [],
      "metadata": {
        "id": "pV1KgXLBxo6i"
      }
    },
    {
      "cell_type": "code",
      "source": [
        "missing_counts = df.isnull().sum()\n",
        "print(missing_counts)"
      ],
      "metadata": {
        "colab": {
          "base_uri": "https://localhost:8080/"
        },
        "id": "fplHC4n2yISX",
        "outputId": "92f5b9da-80ee-4162-832f-a3f0399e898e"
      },
      "execution_count": 12,
      "outputs": [
        {
          "output_type": "stream",
          "name": "stdout",
          "text": [
            "PassengerId      0\n",
            "Survived         0\n",
            "Pclass           0\n",
            "Name             0\n",
            "Sex              0\n",
            "Age              0\n",
            "SibSp            0\n",
            "Parch            0\n",
            "Ticket           0\n",
            "Fare             0\n",
            "Cabin          687\n",
            "Embarked         0\n",
            "dtype: int64\n"
          ]
        }
      ]
    },
    {
      "cell_type": "markdown",
      "source": [],
      "metadata": {
        "id": "N6V9C5lR4e4p"
      }
    },
    {
      "cell_type": "markdown",
      "source": [
        "exercise 3 Feature Engineering\n",
        "Instructions\n",
        "Create new features, such as Family Size from SibSp and Parch, and Title extracted from the Name column.\n",
        "Convert categorical variables into numerical form using techniques like one-hot encoding or label encoding.\n",
        "Normalize or standardize numerical features if required.\n",
        "Hint: Utilize Pandas for data manipulation and scikit-learn’s preprocessing module for encoding.\n",
        "1. #创建新特征 FamilySize（家庭成员数量）\n",
        "2. #从 Name 中提取 Title（称呼）\n",
        "3. Principal Component Analysis (PCA)\n",
        "to apply PCA to reduce the dimensionality of a dataset:\n",
        "from sklearn.decomposition import PCA\n",
        " 处理稀有称呼（可选，但建议合并稀有项）\n",
        "4. Label Encoding：将性别 Sex 进行标签编码\n",
        "5. One-Hot Encoding：对 Embarked 和 Title 进行独热编码\n",
        "6. Min-Max 归一化 Age 和 Fare（将其值缩放到 0-1） why do we need to nomalize age and fare?"
      ],
      "metadata": {
        "id": "i3B3c_DEyNV9"
      }
    },
    {
      "cell_type": "code",
      "source": [
        "df['FamilySize'] = df['SibSp'] + df['Parch'] + 1\n",
        "\n",
        "df['Title'] = df['Name'].str.extract(' ([A-Za-z]+)\\.', expand=False)\n",
        "\n",
        "df['Title'] = df['Title'].replace(\n",
        "    ['Lady', 'Countess', 'Capt', 'Col', 'Don', 'Dr', 'Major', 'Rev', 'Sir', 'Jonkheer', 'Dona'],\n",
        "    'Rare'\n",
        ")\n",
        "df['Title'] = df['Title'].replace({'Mlle': 'Miss', 'Ms': 'Miss', 'Mme': 'Mrs'})\n",
        "\n",
        "from sklearn.preprocessing import LabelEncoder\n",
        "label_encoder = LabelEncoder()\n",
        "df['Sex_encoded'] = label_encoder.fit_transform(df['Sex']) #male -> 1 female -> 0\n",
        "\n",
        "df = pd.get_dummies(df, columns=['Embarked', 'Title'], drop_first=True)\n",
        "\n",
        "from sklearn.preprocessing import MinMaxScaler\n",
        "\n",
        "scaler = MinMaxScaler()\n",
        "df[['Age', 'Fare']] = scaler.fit_transform(df[['Age', 'Fare']])\n",
        "\n",
        "print(df.head())\n"
      ],
      "metadata": {
        "colab": {
          "base_uri": "https://localhost:8080/"
        },
        "id": "9dWOtJNbyTAC",
        "outputId": "9f90b956-6887-4e2b-c081-70369157b128"
      },
      "execution_count": 13,
      "outputs": [
        {
          "output_type": "stream",
          "name": "stdout",
          "text": [
            "   PassengerId  Survived  Pclass  \\\n",
            "0            1         0       3   \n",
            "1            2         1       1   \n",
            "2            3         1       3   \n",
            "3            4         1       1   \n",
            "4            5         0       3   \n",
            "\n",
            "                                                Name     Sex       Age  SibSp  \\\n",
            "0                            Braund, Mr. Owen Harris    male  0.271174      1   \n",
            "1  Cumings, Mrs. John Bradley (Florence Briggs Th...  female  0.472229      1   \n",
            "2                             Heikkinen, Miss. Laina  female  0.321438      0   \n",
            "3       Futrelle, Mrs. Jacques Heath (Lily May Peel)  female  0.434531      1   \n",
            "4                           Allen, Mr. William Henry    male  0.434531      0   \n",
            "\n",
            "   Parch            Ticket      Fare Cabin  FamilySize  Sex_encoded  \\\n",
            "0      0         A/5 21171  0.014151   NaN           2            1   \n",
            "1      0          PC 17599  0.139136   C85           2            0   \n",
            "2      0  STON/O2. 3101282  0.015469   NaN           1            0   \n",
            "3      0            113803  0.103644  C123           2            0   \n",
            "4      0            373450  0.015713   NaN           1            1   \n",
            "\n",
            "   Embarked_Q  Embarked_S  Title_Miss  Title_Mr  Title_Mrs  Title_Rare  \n",
            "0       False        True       False      True      False       False  \n",
            "1       False       False       False     False       True       False  \n",
            "2       False        True        True     False      False       False  \n",
            "3       False        True       False     False       True       False  \n",
            "4       False        True       False      True      False       False  \n"
          ]
        }
      ]
    },
    {
      "cell_type": "markdown",
      "source": [
        "exercise 4"
      ],
      "metadata": {
        "id": "r40vttZv75iN"
      }
    },
    {
      "cell_type": "code",
      "source": [
        "# whoami = dir()\n",
        "# print('titanic_data' in whoami)"
      ],
      "metadata": {
        "colab": {
          "base_uri": "https://localhost:8080/"
        },
        "id": "FDrywOZxbBl_",
        "outputId": "a443713e-53d5-49a3-8998-a67fe6af5451"
      },
      "execution_count": 14,
      "outputs": [
        {
          "output_type": "stream",
          "name": "stdout",
          "text": [
            "False\n"
          ]
        }
      ]
    },
    {
      "cell_type": "code",
      "source": [
        "# Identify and handle outliers in 'Fare' column\n",
        "Q1 = df['Fare'].quantile(0.25)\n",
        "Q3 = df['Fare'].quantile(0.75)\n",
        "IQR = Q3 - Q1\n",
        "lower_bound = Q1 - 1.5 * IQR\n",
        "upper_bound = Q3 + 1.5 * IQR\n",
        "df = df[(df['Fare'] >= lower_bound) & (df['Fare'] <= upper_bound)]"
      ],
      "metadata": {
        "id": "P1k1PDQ43Sef"
      },
      "execution_count": 17,
      "outputs": []
    },
    {
      "cell_type": "code",
      "source": [
        "Q1_age = df['Age'].quantile(0.25)\n",
        "Q3_age = df['Age'].quantile(0.75)\n",
        "IQR_age = Q3_age - Q1_age\n",
        "\n",
        "lower_bound_age = Q1_age - 1.5 * IQR_age\n",
        "upper_bound_age = Q3_age + 1.5 * IQR_age\n",
        "\n",
        "df = df[(df['Age'] >= lower_bound_age) & (df['Age'] <= upper_bound_age)]"
      ],
      "metadata": {
        "id": "xp3wIj7ge8v8"
      },
      "execution_count": 18,
      "outputs": []
    },
    {
      "cell_type": "code",
      "source": [
        "print(df[['Fare', 'Age']].describe())"
      ],
      "metadata": {
        "colab": {
          "base_uri": "https://localhost:8080/"
        },
        "id": "MePOeJnmfCrC",
        "outputId": "c44b0298-afde-4529-db4a-99beb48d8be2"
      },
      "execution_count": 19,
      "outputs": [
        {
          "output_type": "stream",
          "name": "stdout",
          "text": [
            "             Fare         Age\n",
            "count  680.000000  680.000000\n",
            "mean     0.030236    0.345184\n",
            "std      0.021244    0.118803\n",
            "min      0.000000    0.044986\n",
            "25%      0.015330    0.271174\n",
            "50%      0.020495    0.346569\n",
            "75%      0.044198    0.396833\n",
            "max      0.102579    0.648153\n"
          ]
        }
      ]
    },
    {
      "cell_type": "markdown",
      "source": [
        "exercise 5 Data Standardization and Normalization\n",
        "Instructions\n",
        "Assess the scale and distribution of numerical columns in the dataset.\n",
        "Apply standardization to features with a wide range of values.\n",
        "Normalize data that requires a bounded range, like [0, 1].\n",
        "Hint: Consider using StandardScaler and MinMaxScaler from scikit-learn’s preprocessing module."
      ],
      "metadata": {
        "id": "9PDigAP4fMCZ"
      }
    },
    {
      "cell_type": "code",
      "source": [
        "print(df.describe())"
      ],
      "metadata": {
        "colab": {
          "base_uri": "https://localhost:8080/"
        },
        "id": "YhrtIq6dg_tB",
        "outputId": "df51b1fd-8af7-43e1-c5be-01d03149c183"
      },
      "execution_count": 20,
      "outputs": [
        {
          "output_type": "stream",
          "name": "stdout",
          "text": [
            "       PassengerId    Survived      Pclass         Age       SibSp  \\\n",
            "count   680.000000  680.000000  680.000000  680.000000  680.000000   \n",
            "mean    449.045588    0.314706    2.557353    0.345184    0.395588   \n",
            "std     259.900881    0.464740    0.679776    0.118803    0.851739   \n",
            "min       1.000000    0.000000    1.000000    0.044986    0.000000   \n",
            "25%     220.750000    0.000000    2.000000    0.271174    0.000000   \n",
            "50%     449.500000    0.000000    3.000000    0.346569    0.000000   \n",
            "75%     674.250000    1.000000    3.000000    0.396833    1.000000   \n",
            "max     891.000000    1.000000    3.000000    0.648153    5.000000   \n",
            "\n",
            "            Parch        Fare  FamilySize  Sex_encoded  \n",
            "count  680.000000  680.000000  680.000000   680.000000  \n",
            "mean     0.311765    0.030236    1.707353     0.683824  \n",
            "std      0.788266    0.021244    1.370187     0.465325  \n",
            "min      0.000000    0.000000    1.000000     0.000000  \n",
            "25%      0.000000    0.015330    1.000000     0.000000  \n",
            "50%      0.000000    0.020495    1.000000     1.000000  \n",
            "75%      0.000000    0.044198    2.000000     1.000000  \n",
            "max      6.000000    0.102579    8.000000     1.000000  \n"
          ]
        }
      ]
    },
    {
      "cell_type": "code",
      "source": [
        "from sklearn.preprocessing import StandardScaler\n",
        "\n",
        "scaler = StandardScaler()\n",
        "df[['Age', 'Fare']] = scaler.fit_transform(df[['Age', 'Fare']])"
      ],
      "metadata": {
        "id": "ZvNKJhJRhkAz"
      },
      "execution_count": 24,
      "outputs": []
    },
    {
      "cell_type": "code",
      "source": [
        "from sklearn.preprocessing import MinMaxScaler\n",
        "\n",
        "scaler = MinMaxScaler()\n",
        "df[['Age', 'Fare']] = scaler.fit_transform(df[['Age','Fare']])"
      ],
      "metadata": {
        "id": "xncbOMSlfOIg"
      },
      "execution_count": 26,
      "outputs": []
    },
    {
      "cell_type": "code",
      "source": [
        "print(df[['Age', 'Fare']].head())\n",
        "print(df[['Age', 'Fare']].describe())\n",
        "import matplotlib.pyplot as plt\n",
        "\n",
        "df[['Age', 'Fare']].hist(bins=20, figsize=(10, 4))\n",
        "plt.suptitle(\"Normalized Age and Fare\")\n",
        "plt.show()"
      ],
      "metadata": {
        "colab": {
          "base_uri": "https://localhost:8080/",
          "height": 676
        },
        "id": "gjLM9SIcigfO",
        "outputId": "60100795-2bdf-4eba-f926-2607389b0383"
      },
      "execution_count": 29,
      "outputs": [
        {
          "output_type": "stream",
          "name": "stdout",
          "text": [
            "        Age      Fare\n",
            "0  0.375000  0.137953\n",
            "2  0.458333  0.150797\n",
            "4  0.645833  0.153175\n",
            "5  0.500000  0.160944\n",
            "8  0.479167  0.211844\n",
            "              Age        Fare\n",
            "count  680.000000  680.000000\n",
            "mean     0.497702    0.294757\n",
            "std      0.196965    0.207099\n",
            "min      0.000000    0.000000\n",
            "25%      0.375000    0.149450\n",
            "50%      0.500000    0.199794\n",
            "75%      0.583333    0.430865\n",
            "max      1.000000    1.000000\n"
          ]
        },
        {
          "output_type": "display_data",
          "data": {
            "text/plain": [
              "<Figure size 1000x400 with 2 Axes>"
            ],
            "image/png": "[encoded data removed]"
          },
          "metadata": {}
        }
      ]
    },
    {
      "cell_type": "markdown",
      "source": [
        "Exercise 6: Feature Encoding\n",
        "Instructions\n",
        "Identify categorical columns in the Titanic dataset, such as Sex and Embarked.\n",
        "Use one-hot encoding for nominal variables and label encoding for ordinal variables.\n",
        "Integrate the encoded features back into the main dataset.\n",
        "Hint: Utilize pandas.get_dummies() for one-hot encoding and LabelEncoder from scikit-learn for label encoding.\n",
        "\n",
        "#also put into exercise 3"
      ],
      "metadata": {
        "id": "iMWWuthbi8ga"
      }
    },
    {
      "cell_type": "code",
      "source": [
        "import pandas as pd\n",
        "from sklearn.preprocessing import LabelEncoder\n",
        "\n",
        "df = pd.read_csv(\"titanic.csv\")\n",
        "\n",
        "label_encoder = LabelEncoder()\n",
        "df['Sex_encoded'] = label_encoder.fit_transform(df['Sex'])\n",
        "\n",
        "df = pd.get_dummies(df, columns=['Embarked'], drop_first=True)\n",
        "\n",
        "print(df[['Sex', 'Sex_encoded', 'Embarked_Q', 'Embarked_S']].head())"
      ],
      "metadata": {
        "colab": {
          "base_uri": "https://localhost:8080/"
        },
        "id": "Xko9ZKJDivi-",
        "outputId": "9503b036-3fbe-440d-f298-fc5aac9b9af7"
      },
      "execution_count": 30,
      "outputs": [
        {
          "output_type": "stream",
          "name": "stdout",
          "text": [
            "      Sex  Sex_encoded  Embarked_Q  Embarked_S\n",
            "0    male            1       False        True\n",
            "1  female            0       False       False\n",
            "2  female            0       False        True\n",
            "3  female            0       False        True\n",
            "4    male            1       False        True\n"
          ]
        }
      ]
    },
    {
      "cell_type": "markdown",
      "source": [
        "exercise 7 Data Transformation for Age Feature\n",
        "Instructions\n",
        "Create age groups (bins) from the Age column to categorize passengers into different age categories.\n",
        "Apply one-hot encoding to the age groups to convert them into binary features.\n",
        "Hint: Use pd.cut() for binning the Age column and pd.get_dummies() for one-hot encoding."
      ],
      "metadata": {
        "id": "Ul6NgUhFj9vo"
      }
    },
    {
      "cell_type": "code",
      "source": [
        "bins = [0, 12, 19, 35, 60, 100]\n",
        "labels = ['Child', 'Teenager', 'YoungAdult', 'MiddleAged', 'Senior']\n",
        "df['AgeGroup'] = pd.cut(df['Age'], bins=bins, labels=labels)\n",
        "\n",
        "age_dummies = pd.get_dummies(df['AgeGroup'], prefix='AgeGroup')\n",
        "df = pd.concat([df, age_dummies], axis=1)\n",
        "\n",
        "print(df[['Age', 'AgeGroup'] + list(age_dummies.columns)].head(10))"
      ],
      "metadata": {
        "colab": {
          "base_uri": "https://localhost:8080/"
        },
        "id": "hVqdASCJkCM1",
        "outputId": "8d3f22d5-dc9e-43b6-ffee-33ec0025c898"
      },
      "execution_count": 31,
      "outputs": [
        {
          "output_type": "stream",
          "name": "stdout",
          "text": [
            "    Age    AgeGroup  AgeGroup_Child  AgeGroup_Teenager  AgeGroup_YoungAdult  \\\n",
            "0  22.0  YoungAdult           False              False                 True   \n",
            "1  38.0  MiddleAged           False              False                False   \n",
            "2  26.0  YoungAdult           False              False                 True   \n",
            "3  35.0  YoungAdult           False              False                 True   \n",
            "4  35.0  YoungAdult           False              False                 True   \n",
            "5   NaN         NaN           False              False                False   \n",
            "6  54.0  MiddleAged           False              False                False   \n",
            "7   2.0       Child            True              False                False   \n",
            "8  27.0  YoungAdult           False              False                 True   \n",
            "9  14.0    Teenager           False               True                False   \n",
            "\n",
            "   AgeGroup_MiddleAged  AgeGroup_Senior  \n",
            "0                False            False  \n",
            "1                 True            False  \n",
            "2                False            False  \n",
            "3                False            False  \n",
            "4                False            False  \n",
            "5                False            False  \n",
            "6                 True            False  \n",
            "7                False            False  \n",
            "8                False            False  \n",
            "9                False            False  \n"
          ]
        }
      ]
    }
  ]
}
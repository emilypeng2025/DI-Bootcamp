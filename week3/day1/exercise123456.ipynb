{
 "cells": [
  {
   "cell_type": "code",
   "execution_count": null,
   "id": "c18034d5-cbbd-46ba-8e50-50491aeb08ac",
   "metadata": {},
   "outputs": [],
   "source": [
    "# Exercise 1: Introduction to Data Analysis (Easy)\n",
    "\n",
    "\n",
    "# Objective: Understand the basic overview and significance of data analysis.\n",
    "# Task:\n",
    "# Write a short essay or report on the following topics:\n",
    "\n",
    "# Q1. What is data analysis?\n",
    "# answer: data analysis is a process of inspecting, cleansing, transforming, and modeling data with the goal of discovering useful information, informing conclusiongs, and supporting decision-making. \n",
    "\n",
    "# Q2. Why is data analysis important in modern contexts?\n",
    "# Data analysis is important to different levels from one person to the whole country level, namely, people, business, and government to make decisions based on facts and numbers, identifying trends and pattern, solving problems, predicting future events, being more innovative and dicovering new knowledge. Business also use data effectively in different fields. \n",
    "\n",
    "# List and describe three areas where data analysis is applied today.\n",
    "#In business, they use data to make marketing strategies, operate mroe efficiently and improve customer service. Companies that do things based on data can anaylised what to do and how to do things based on data they collect. \n",
    "#In healthcare, patient data are analysed, disease are predicted and treated with more data and studies. \n",
    "#In technology, it is used in product development, user experience optimization and innovation. For example, games also ask for feedbacks to improve game experience for players. \n",
    "\n",
    "#exercise 2 see jupyter and file day 1 of week 3"
   ]
  },
  {
   "cell_type": "code",
   "execution_count": null,
   "id": "d72512a7-f4e8-43f2-b73c-81a271989dd0",
   "metadata": {},
   "outputs": [],
   "source": []
  },
  {
   "cell_type": "code",
   "execution_count": 1,
   "id": "395c2f98-0ec3-495e-bd41-98ee4f4920a5",
   "metadata": {},
   "outputs": [
    {
     "data": {
      "text/html": [
       "<div>\n",
       "<style scoped>\n",
       "    .dataframe tbody tr th:only-of-type {\n",
       "        vertical-align: middle;\n",
       "    }\n",
       "\n",
       "    .dataframe tbody tr th {\n",
       "        vertical-align: top;\n",
       "    }\n",
       "\n",
       "    .dataframe thead th {\n",
       "        text-align: right;\n",
       "    }\n",
       "</style>\n",
       "<table border=\"1\" class=\"dataframe\">\n",
       "  <thead>\n",
       "    <tr style=\"text-align: right;\">\n",
       "      <th></th>\n",
       "      <th>index</th>\n",
       "      <th>Year</th>\n",
       "      <th>Period</th>\n",
       "      <th>Avg hrs per day sleeping</th>\n",
       "      <th>Standard Error</th>\n",
       "      <th>Type of Days</th>\n",
       "      <th>Age Group</th>\n",
       "      <th>Activity</th>\n",
       "      <th>Sex</th>\n",
       "    </tr>\n",
       "  </thead>\n",
       "  <tbody>\n",
       "    <tr>\n",
       "      <th>0</th>\n",
       "      <td>0</td>\n",
       "      <td>2003</td>\n",
       "      <td>Annual</td>\n",
       "      <td>8.57</td>\n",
       "      <td>0.018</td>\n",
       "      <td>All days</td>\n",
       "      <td>15 years and over</td>\n",
       "      <td>Sleeping</td>\n",
       "      <td>Both</td>\n",
       "    </tr>\n",
       "    <tr>\n",
       "      <th>1</th>\n",
       "      <td>1</td>\n",
       "      <td>2004</td>\n",
       "      <td>Annual</td>\n",
       "      <td>8.55</td>\n",
       "      <td>0.026</td>\n",
       "      <td>All days</td>\n",
       "      <td>15 years and over</td>\n",
       "      <td>Sleeping</td>\n",
       "      <td>Both</td>\n",
       "    </tr>\n",
       "    <tr>\n",
       "      <th>2</th>\n",
       "      <td>2</td>\n",
       "      <td>2005</td>\n",
       "      <td>Annual</td>\n",
       "      <td>8.62</td>\n",
       "      <td>0.023</td>\n",
       "      <td>All days</td>\n",
       "      <td>15 years and over</td>\n",
       "      <td>Sleeping</td>\n",
       "      <td>Both</td>\n",
       "    </tr>\n",
       "    <tr>\n",
       "      <th>3</th>\n",
       "      <td>3</td>\n",
       "      <td>2006</td>\n",
       "      <td>Annual</td>\n",
       "      <td>8.63</td>\n",
       "      <td>0.024</td>\n",
       "      <td>All days</td>\n",
       "      <td>15 years and over</td>\n",
       "      <td>Sleeping</td>\n",
       "      <td>Both</td>\n",
       "    </tr>\n",
       "    <tr>\n",
       "      <th>4</th>\n",
       "      <td>4</td>\n",
       "      <td>2007</td>\n",
       "      <td>Annual</td>\n",
       "      <td>8.57</td>\n",
       "      <td>0.024</td>\n",
       "      <td>All days</td>\n",
       "      <td>15 years and over</td>\n",
       "      <td>Sleeping</td>\n",
       "      <td>Both</td>\n",
       "    </tr>\n",
       "  </tbody>\n",
       "</table>\n",
       "</div>"
      ],
      "text/plain": [
       "   index  Year  Period  Avg hrs per day sleeping  Standard Error Type of Days  \\\n",
       "0      0  2003  Annual                      8.57           0.018     All days   \n",
       "1      1  2004  Annual                      8.55           0.026     All days   \n",
       "2      2  2005  Annual                      8.62           0.023     All days   \n",
       "3      3  2006  Annual                      8.63           0.024     All days   \n",
       "4      4  2007  Annual                      8.57           0.024     All days   \n",
       "\n",
       "           Age Group  Activity   Sex  \n",
       "0  15 years and over  Sleeping  Both  \n",
       "1  15 years and over  Sleeping  Both  \n",
       "2  15 years and over  Sleeping  Both  \n",
       "3  15 years and over  Sleeping  Both  \n",
       "4  15 years and over  Sleeping  Both  "
      ]
     },
     "execution_count": 1,
     "metadata": {},
     "output_type": "execute_result"
    }
   ],
   "source": [
    "import pandas as pd\n",
    "df = pd.read_csv(\"Time Americans Spend Sleeping.csv\")\n",
    "df.head()"
   ]
  },
  {
   "cell_type": "code",
   "execution_count": null,
   "id": "0485ab17-a31e-4937-83e1-87fe0b4d03fe",
   "metadata": {},
   "outputs": [],
   "source": [
    "#print(\"Pandas version:\", pd.__version__)"
   ]
  },
  {
   "cell_type": "code",
   "execution_count": 6,
   "id": "0ff944d2-acf7-4949-bce1-952dfea15bcb",
   "metadata": {},
   "outputs": [
    {
     "name": "stdout",
     "output_type": "stream",
     "text": [
      "<class 'pandas.core.frame.DataFrame'>\n",
      "RangeIndex: 945 entries, 0 to 944\n",
      "Data columns (total 9 columns):\n",
      " #   Column                    Non-Null Count  Dtype  \n",
      "---  ------                    --------------  -----  \n",
      " 0   index                     945 non-null    int64  \n",
      " 1   Year                      945 non-null    int64  \n",
      " 2   Period                    945 non-null    object \n",
      " 3   Avg hrs per day sleeping  945 non-null    float64\n",
      " 4   Standard Error            945 non-null    float64\n",
      " 5   Type of Days              945 non-null    object \n",
      " 6   Age Group                 945 non-null    object \n",
      " 7   Activity                  945 non-null    object \n",
      " 8   Sex                       945 non-null    object \n",
      "dtypes: float64(2), int64(2), object(5)\n",
      "memory usage: 66.6+ KB\n"
     ]
    },
    {
     "data": {
      "text/html": [
       "<div>\n",
       "<style scoped>\n",
       "    .dataframe tbody tr th:only-of-type {\n",
       "        vertical-align: middle;\n",
       "    }\n",
       "\n",
       "    .dataframe tbody tr th {\n",
       "        vertical-align: top;\n",
       "    }\n",
       "\n",
       "    .dataframe thead th {\n",
       "        text-align: right;\n",
       "    }\n",
       "</style>\n",
       "<table border=\"1\" class=\"dataframe\">\n",
       "  <thead>\n",
       "    <tr style=\"text-align: right;\">\n",
       "      <th></th>\n",
       "      <th>index</th>\n",
       "      <th>Year</th>\n",
       "      <th>Avg hrs per day sleeping</th>\n",
       "      <th>Standard Error</th>\n",
       "    </tr>\n",
       "  </thead>\n",
       "  <tbody>\n",
       "    <tr>\n",
       "      <th>count</th>\n",
       "      <td>945.000000</td>\n",
       "      <td>945.000000</td>\n",
       "      <td>945.000000</td>\n",
       "      <td>945.000000</td>\n",
       "    </tr>\n",
       "    <tr>\n",
       "      <th>mean</th>\n",
       "      <td>472.000000</td>\n",
       "      <td>2010.000000</td>\n",
       "      <td>8.806868</td>\n",
       "      <td>0.086958</td>\n",
       "    </tr>\n",
       "    <tr>\n",
       "      <th>std</th>\n",
       "      <td>272.942302</td>\n",
       "      <td>4.322782</td>\n",
       "      <td>0.545001</td>\n",
       "      <td>0.034631</td>\n",
       "    </tr>\n",
       "    <tr>\n",
       "      <th>min</th>\n",
       "      <td>0.000000</td>\n",
       "      <td>2003.000000</td>\n",
       "      <td>7.720000</td>\n",
       "      <td>0.018000</td>\n",
       "    </tr>\n",
       "    <tr>\n",
       "      <th>25%</th>\n",
       "      <td>236.000000</td>\n",
       "      <td>2006.000000</td>\n",
       "      <td>8.360000</td>\n",
       "      <td>0.063000</td>\n",
       "    </tr>\n",
       "    <tr>\n",
       "      <th>50%</th>\n",
       "      <td>472.000000</td>\n",
       "      <td>2010.000000</td>\n",
       "      <td>8.810000</td>\n",
       "      <td>0.084000</td>\n",
       "    </tr>\n",
       "    <tr>\n",
       "      <th>75%</th>\n",
       "      <td>708.000000</td>\n",
       "      <td>2014.000000</td>\n",
       "      <td>9.190000</td>\n",
       "      <td>0.106000</td>\n",
       "    </tr>\n",
       "    <tr>\n",
       "      <th>max</th>\n",
       "      <td>944.000000</td>\n",
       "      <td>2017.000000</td>\n",
       "      <td>10.650000</td>\n",
       "      <td>0.228000</td>\n",
       "    </tr>\n",
       "  </tbody>\n",
       "</table>\n",
       "</div>"
      ],
      "text/plain": [
       "            index         Year  Avg hrs per day sleeping  Standard Error\n",
       "count  945.000000   945.000000                945.000000      945.000000\n",
       "mean   472.000000  2010.000000                  8.806868        0.086958\n",
       "std    272.942302     4.322782                  0.545001        0.034631\n",
       "min      0.000000  2003.000000                  7.720000        0.018000\n",
       "25%    236.000000  2006.000000                  8.360000        0.063000\n",
       "50%    472.000000  2010.000000                  8.810000        0.084000\n",
       "75%    708.000000  2014.000000                  9.190000        0.106000\n",
       "max    944.000000  2017.000000                 10.650000        0.228000"
      ]
     },
     "execution_count": 6,
     "metadata": {},
     "output_type": "execute_result"
    }
   ],
   "source": [
    "df.info()\n",
    "df.describe()"
   ]
  },
  {
   "cell_type": "code",
   "execution_count": null,
   "id": "2ed2d1ae-ac57-4d3f-b4c6-9597eb228105",
   "metadata": {},
   "outputs": [],
   "source": [
    "#Provide a brief dataset description. \n",
    "#answer: this data set contains 945 entries and 9 columns, recording the average number of hours Americans sleep per day across different demographics and time periods. Key Key variables include:\n",
    "#Year: The year of the observation, ranging from 2003 to 2017. #Average hours per day sleeping with mean number 8.81 hours etc.\n",
    "#The dataset allows for analysis of sleep patterns over time across different age groups, genders, and day types.\n"
   ]
  },
  {
   "cell_type": "code",
   "execution_count": 5,
   "id": "2aa7c27a-96a9-4808-9e5f-c05206fe5a24",
   "metadata": {},
   "outputs": [
    {
     "name": "stdout",
     "output_type": "stream",
     "text": [
      "index                         int64\n",
      "Year                          int64\n",
      "Period                       object\n",
      "Avg hrs per day sleeping    float64\n",
      "Standard Error              float64\n",
      "Type of Days                 object\n",
      "Age Group                    object\n",
      "Activity                     object\n",
      "Sex                          object\n",
      "dtype: object\n"
     ]
    }
   ],
   "source": [
    "#🌟Exercise 3: Identifying Data Types\n",
    "print(df.dtypes)"
   ]
  },
  {
   "cell_type": "code",
   "execution_count": 7,
   "id": "0428145d-1ad9-48ea-bcd7-3f59511eb42e",
   "metadata": {},
   "outputs": [
    {
     "name": "stdout",
     "output_type": "stream",
     "text": [
      "index: Quantitative\n",
      "Year: Quantitative\n",
      "Period: Qualitative\n",
      "Avg hrs per day sleeping: Quantitative\n",
      "Standard Error: Quantitative\n",
      "Type of Days: Qualitative\n",
      "Age Group: Qualitative\n",
      "Activity: Qualitative\n",
      "Sex: Qualitative\n"
     ]
    }
   ],
   "source": [
    "# For the datasets from the previous exercise, categorize each column of it as either quantitative or qualitative and explain your reasoning.\n",
    "# when it is interger and float, it is quantitative, meaning that it can be analysed as numbers. the object type such as type of days, age group, activity are qualitative. \n",
    "for column, dtype in df.dtypes.items():\n",
    "    if dtype == 'object':\n",
    "        print(f\"{column}: Qualitative\")\n",
    "    else:\n",
    "        print(f\"{column}: Quantitative\")"
   ]
  },
  {
   "cell_type": "code",
   "execution_count": 10,
   "id": "d0c253df-9840-447e-ae0b-1fece27a9e5c",
   "metadata": {},
   "outputs": [
    {
     "data": {
      "text/html": [
       "<div>\n",
       "<style scoped>\n",
       "    .dataframe tbody tr th:only-of-type {\n",
       "        vertical-align: middle;\n",
       "    }\n",
       "\n",
       "    .dataframe tbody tr th {\n",
       "        vertical-align: top;\n",
       "    }\n",
       "\n",
       "    .dataframe thead th {\n",
       "        text-align: right;\n",
       "    }\n",
       "</style>\n",
       "<table border=\"1\" class=\"dataframe\">\n",
       "  <thead>\n",
       "    <tr style=\"text-align: right;\">\n",
       "      <th></th>\n",
       "      <th>Id</th>\n",
       "      <th>SepalLengthCm</th>\n",
       "      <th>SepalWidthCm</th>\n",
       "      <th>PetalLengthCm</th>\n",
       "      <th>PetalWidthCm</th>\n",
       "      <th>Species</th>\n",
       "    </tr>\n",
       "  </thead>\n",
       "  <tbody>\n",
       "    <tr>\n",
       "      <th>0</th>\n",
       "      <td>1</td>\n",
       "      <td>5.1</td>\n",
       "      <td>3.5</td>\n",
       "      <td>1.4</td>\n",
       "      <td>0.2</td>\n",
       "      <td>Iris-setosa</td>\n",
       "    </tr>\n",
       "    <tr>\n",
       "      <th>1</th>\n",
       "      <td>2</td>\n",
       "      <td>4.9</td>\n",
       "      <td>3.0</td>\n",
       "      <td>1.4</td>\n",
       "      <td>0.2</td>\n",
       "      <td>Iris-setosa</td>\n",
       "    </tr>\n",
       "    <tr>\n",
       "      <th>2</th>\n",
       "      <td>3</td>\n",
       "      <td>4.7</td>\n",
       "      <td>3.2</td>\n",
       "      <td>1.3</td>\n",
       "      <td>0.2</td>\n",
       "      <td>Iris-setosa</td>\n",
       "    </tr>\n",
       "    <tr>\n",
       "      <th>3</th>\n",
       "      <td>4</td>\n",
       "      <td>4.6</td>\n",
       "      <td>3.1</td>\n",
       "      <td>1.5</td>\n",
       "      <td>0.2</td>\n",
       "      <td>Iris-setosa</td>\n",
       "    </tr>\n",
       "    <tr>\n",
       "      <th>4</th>\n",
       "      <td>5</td>\n",
       "      <td>5.0</td>\n",
       "      <td>3.6</td>\n",
       "      <td>1.4</td>\n",
       "      <td>0.2</td>\n",
       "      <td>Iris-setosa</td>\n",
       "    </tr>\n",
       "  </tbody>\n",
       "</table>\n",
       "</div>"
      ],
      "text/plain": [
       "   Id  SepalLengthCm  SepalWidthCm  PetalLengthCm  PetalWidthCm      Species\n",
       "0   1            5.1           3.5            1.4           0.2  Iris-setosa\n",
       "1   2            4.9           3.0            1.4           0.2  Iris-setosa\n",
       "2   3            4.7           3.2            1.3           0.2  Iris-setosa\n",
       "3   4            4.6           3.1            1.5           0.2  Iris-setosa\n",
       "4   5            5.0           3.6            1.4           0.2  Iris-setosa"
      ]
     },
     "execution_count": 10,
     "metadata": {},
     "output_type": "execute_result"
    }
   ],
   "source": [
    "import pandas as pd\n",
    "df = pd.read_csv(\"iris.csv\")\n",
    "df.head()"
   ]
  },
  {
   "cell_type": "code",
   "execution_count": 11,
   "id": "4dc3554a-a470-4494-a514-89f11fbcffa4",
   "metadata": {},
   "outputs": [
    {
     "name": "stdout",
     "output_type": "stream",
     "text": [
      "Id: Quantitative\n",
      "SepalLengthCm: Quantitative\n",
      "SepalWidthCm: Quantitative\n",
      "PetalLengthCm: Quantitative\n",
      "PetalWidthCm: Quantitative\n",
      "Species: Quantitative\n"
     ]
    }
   ],
   "source": [
    "for column, dtype in df.dtypes.items():\n",
    "    if dtype == 'species':\n",
    "        print(f\"{column}: Qualitative\")\n",
    "    else:\n",
    "        print(f\"{column}: Quantitative\")"
   ]
  },
  {
   "cell_type": "code",
   "execution_count": null,
   "id": "e2fc2bc3-d337-48e9-bd78-fbec1e7416f7",
   "metadata": {},
   "outputs": [],
   "source": [
    "# length and width are both numbers using centimeters, while species are not numerical so they are categorical data. \n"
   ]
  },
  {
   "cell_type": "code",
   "execution_count": 9,
   "id": "fb6f4c01-bff0-435a-bd07-41479ed9db06",
   "metadata": {},
   "outputs": [
    {
     "name": "stdout",
     "output_type": "stream",
     "text": [
      "Mean: 5.843333333333334\n",
      "Median: 5.8\n",
      "Mode: [5.]\n"
     ]
    }
   ],
   "source": [
    "#🌟Exercise 5: Basic Data Analysis with Google Colab\n",
    "#Calculate the mean, median, and mode of a quantitative column.\n",
    "import pandas as pd\n",
    "df = pd.read_csv(\"iris.csv\")\n",
    "mean_val = df['SepalLengthCm'].mean()\n",
    "median_val = df['SepalLengthCm'].median()\n",
    "mode_val = df['SepalLengthCm'].mode()\n",
    "print(\"Mean:\", mean_val)\n",
    "print(\"Median:\", median_val)\n",
    "print(\"Mode:\", mode_val.values)"
   ]
  },
  {
   "cell_type": "code",
   "execution_count": 11,
   "id": "68495fed-d5e0-43c3-a27c-23dd5a8cce20",
   "metadata": {},
   "outputs": [
    {
     "name": "stdout",
     "output_type": "stream",
     "text": [
      "Index(['Id', 'SepalLengthCm', 'SepalWidthCm', 'PetalLengthCm', 'PetalWidthCm',\n",
      "       'Species'],\n",
      "      dtype='object')\n"
     ]
    },
    {
     "data": {
      "image/png": "[encoded data removed]",
      "text/plain": [
       "<Figure size 800x500 with 1 Axes>"
      ]
     },
     "metadata": {},
     "output_type": "display_data"
    }
   ],
   "source": [
    "import pandas as pd\n",
    "import matplotlib.pyplot as plt\n",
    "import seaborn as sns\n",
    "\n",
    "df = pd.read_csv('iris.csv')\n",
    "\n",
    "print(df.columns)\n",
    "\n",
    "plt.figure(figsize=(8, 5))\n",
    "sns.histplot(df['SepalLengthCm'], bins=20, kde=True, color='skyblue')\n",
    "plt.title('Distribution of Sepal Length')\n",
    "plt.xlabel('Sepal Length (cm)')\n",
    "plt.ylabel('Frequency')\n",
    "plt.show()"
   ]
  },
  {
   "cell_type": "markdown",
   "id": "6b6b4064-9a2b-427b-986b-ff4277c701c1",
   "metadata": {},
   "source": [
    "markdown\n",
    "### 📊 Findings:\n",
    "\n",
    "- The line plot shows a clear upward trend between `Name_column1` and `Name_column2`.\n",
    "- There is a noticeable peak at around the middle of the dataset.\n",
    "- The relationship appears to be linear, suggesting possible correlation.\n",
    "\n"
   ]
  },
  {
   "cell_type": "markdown",
   "id": "1e652f0e-5d14-45a7-9e3a-1144b1531582",
   "metadata": {},
   "source": [
    "#exercise 6\n",
    "<!-- Basic Observation Skills in Data Analysis\n",
    "\n",
    "\n",
    "Objective: Develop observation skills for data analysis.\n",
    "Task:\n",
    "Load the How Much Sleep Do Americans Really Get? dataset into Jupyter or Google Colab.\n",
    "Identify columns that could be interesting for a specific type of analysis (e.g., trend analysis, group comparison) and explain your choice.\n",
    "Tools: Jupyter Notebook, Python with Pandas library. -->\n"
   ]
  },
  {
   "cell_type": "code",
   "execution_count": 18,
   "id": "c088c2e4-c4ec-42aa-90a7-cb7d121f1a66",
   "metadata": {},
   "outputs": [
    {
     "data": {
      "text/html": [
       "<div>\n",
       "<style scoped>\n",
       "    .dataframe tbody tr th:only-of-type {\n",
       "        vertical-align: middle;\n",
       "    }\n",
       "\n",
       "    .dataframe tbody tr th {\n",
       "        vertical-align: top;\n",
       "    }\n",
       "\n",
       "    .dataframe thead th {\n",
       "        text-align: right;\n",
       "    }\n",
       "</style>\n",
       "<table border=\"1\" class=\"dataframe\">\n",
       "  <thead>\n",
       "    <tr style=\"text-align: right;\">\n",
       "      <th></th>\n",
       "      <th>index</th>\n",
       "      <th>Year</th>\n",
       "      <th>Period</th>\n",
       "      <th>Avg hrs per day sleeping</th>\n",
       "      <th>Standard Error</th>\n",
       "      <th>Type of Days</th>\n",
       "      <th>Age Group</th>\n",
       "      <th>Activity</th>\n",
       "      <th>Sex</th>\n",
       "    </tr>\n",
       "  </thead>\n",
       "  <tbody>\n",
       "    <tr>\n",
       "      <th>0</th>\n",
       "      <td>0</td>\n",
       "      <td>2003</td>\n",
       "      <td>Annual</td>\n",
       "      <td>8.57</td>\n",
       "      <td>0.018</td>\n",
       "      <td>All days</td>\n",
       "      <td>15 years and over</td>\n",
       "      <td>Sleeping</td>\n",
       "      <td>Both</td>\n",
       "    </tr>\n",
       "    <tr>\n",
       "      <th>1</th>\n",
       "      <td>1</td>\n",
       "      <td>2004</td>\n",
       "      <td>Annual</td>\n",
       "      <td>8.55</td>\n",
       "      <td>0.026</td>\n",
       "      <td>All days</td>\n",
       "      <td>15 years and over</td>\n",
       "      <td>Sleeping</td>\n",
       "      <td>Both</td>\n",
       "    </tr>\n",
       "    <tr>\n",
       "      <th>2</th>\n",
       "      <td>2</td>\n",
       "      <td>2005</td>\n",
       "      <td>Annual</td>\n",
       "      <td>8.62</td>\n",
       "      <td>0.023</td>\n",
       "      <td>All days</td>\n",
       "      <td>15 years and over</td>\n",
       "      <td>Sleeping</td>\n",
       "      <td>Both</td>\n",
       "    </tr>\n",
       "    <tr>\n",
       "      <th>3</th>\n",
       "      <td>3</td>\n",
       "      <td>2006</td>\n",
       "      <td>Annual</td>\n",
       "      <td>8.63</td>\n",
       "      <td>0.024</td>\n",
       "      <td>All days</td>\n",
       "      <td>15 years and over</td>\n",
       "      <td>Sleeping</td>\n",
       "      <td>Both</td>\n",
       "    </tr>\n",
       "    <tr>\n",
       "      <th>4</th>\n",
       "      <td>4</td>\n",
       "      <td>2007</td>\n",
       "      <td>Annual</td>\n",
       "      <td>8.57</td>\n",
       "      <td>0.024</td>\n",
       "      <td>All days</td>\n",
       "      <td>15 years and over</td>\n",
       "      <td>Sleeping</td>\n",
       "      <td>Both</td>\n",
       "    </tr>\n",
       "  </tbody>\n",
       "</table>\n",
       "</div>"
      ],
      "text/plain": [
       "   index  Year  Period  Avg hrs per day sleeping  Standard Error Type of Days  \\\n",
       "0      0  2003  Annual                      8.57           0.018     All days   \n",
       "1      1  2004  Annual                      8.55           0.026     All days   \n",
       "2      2  2005  Annual                      8.62           0.023     All days   \n",
       "3      3  2006  Annual                      8.63           0.024     All days   \n",
       "4      4  2007  Annual                      8.57           0.024     All days   \n",
       "\n",
       "           Age Group  Activity   Sex  \n",
       "0  15 years and over  Sleeping  Both  \n",
       "1  15 years and over  Sleeping  Both  \n",
       "2  15 years and over  Sleeping  Both  \n",
       "3  15 years and over  Sleeping  Both  \n",
       "4  15 years and over  Sleeping  Both  "
      ]
     },
     "execution_count": 18,
     "metadata": {},
     "output_type": "execute_result"
    }
   ],
   "source": [
    "import pandas as pd\n",
    "df = pd.read_csv(\"Time Americans Spend Sleeping.csv\")\n",
    "df.head()"
   ]
  },
  {
   "cell_type": "code",
   "execution_count": 19,
   "id": "8d0a6807-9f26-4b71-820f-1a9ca0bdb218",
   "metadata": {},
   "outputs": [
    {
     "data": {
      "text/plain": [
       "Index(['index', 'Year', 'Period', 'Avg hrs per day sleeping', 'Standard Error',\n",
       "       'Type of Days', 'Age Group', 'Activity', 'Sex'],\n",
       "      dtype='object')"
      ]
     },
     "execution_count": 19,
     "metadata": {},
     "output_type": "execute_result"
    }
   ],
   "source": [
    "df.columns"
   ]
  },
  {
   "cell_type": "markdown",
   "id": "27da8584-d0fe-4edb-a35f-7bef5b9f6015",
   "metadata": {},
   "source": [
    "### 📊 Interesting Columns for Analysis:\n",
    "\n",
    "- **Year** and **Avg hrs per day sleeping**:  \n",
    "  Useful for **trend analysis** — to see if Americans are sleeping more or less over time.\n",
    "\n",
    "- **Sex** and **Avg hrs per day sleeping**:  \n",
    "  Helpful for **group comparison** between male and female sleep habits.\n",
    "\n",
    "- **Age Group** and **Avg hrs per day sleeping**:  \n",
    "  Ideal for comparing sleep patterns across different age groups.\n",
    "\n",
    "- **Type of Days** (e.g., weekend vs weekday):  \n",
    "  Good for examining how sleep hours differ between workdays and free days."
   ]
  }
 ],
 "metadata": {
  "kernelspec": {
   "display_name": "Python [conda env:base] *",
   "language": "python",
   "name": "conda-base-py"
  },
  "language_info": {
   "codemirror_mode": {
    "name": "ipython",
    "version": 3
   },
   "file_extension": ".py",
   "mimetype": "text/x-python",
   "name": "python",
   "nbconvert_exporter": "python",
   "pygments_lexer": "ipython3",
   "version": "3.12.7"
  }
 },
 "nbformat": 4,
 "nbformat_minor": 5
}

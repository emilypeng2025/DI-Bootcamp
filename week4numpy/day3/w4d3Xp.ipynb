{
  "nbformat": 4,
  "nbformat_minor": 0,
  "metadata": {
    "colab": {
      "provenance": []
    },
    "kernelspec": {
      "name": "python3",
      "display_name": "Python 3"
    },
    "language_info": {
      "name": "python"
    }
  },
  "cells": [
    {
      "cell_type": "code",
      "execution_count": 7,
      "metadata": {
        "colab": {
          "base_uri": "https://localhost:8080/"
        },
        "id": "elqNtOYm5qO5",
        "outputId": "b8d3e1bc-2136-47d8-a6a3-497af735832e"
      },
      "outputs": [
        {
          "output_type": "stream",
          "name": "stdout",
          "text": [
            "1.15.3\n"
          ]
        }
      ],
      "source": [
        "import scipy as sc\n",
        "import numpy as np\n",
        "import matplotlib.pyplot as plt\n",
        "\n",
        "print(sc.__version__)"
      ]
    },
    {
      "cell_type": "code",
      "source": [
        "import scipy.stats as stats\n",
        "\n",
        "data = [12, 15, 13, 12, 18, 20, 22, 21]\n",
        "mean_scipy = stats.tmean(data)\n",
        "median_scipy = np.median(data)\n",
        "variance_scipy = stats.tvar(data)\n",
        "std_dev_scipy = stats.tstd(data)\n",
        "\n",
        "print(mean_scipy)\n",
        "print(median_scipy)\n",
        "print(variance_scipy)\n",
        "print(std_dev_scipy)"
      ],
      "metadata": {
        "colab": {
          "base_uri": "https://localhost:8080/"
        },
        "id": "V7LVpbAC6k1K",
        "outputId": "d1ec2e2c-882d-421d-96d2-6b7597645f96"
      },
      "execution_count": 11,
      "outputs": [
        {
          "output_type": "stream",
          "name": "stdout",
          "text": [
            "16.625\n",
            "16.5\n",
            "17.125\n",
            "4.138236339311712\n"
          ]
        }
      ]
    },
    {
      "cell_type": "markdown",
      "source": [
        "🌟 Exercise 3: Understanding Distributions\n",
        "Task: Generate a normal distribution using SciPy with a mean of 50 and a standard deviation of 10. Plot this distribution."
      ],
      "metadata": {
        "id": "0VTBfJkO9o1U"
      }
    },
    {
      "cell_type": "code",
      "source": [
        "from scipy.stats import norm\n",
        "mu = 50      # Mean\n",
        "sigma = 10 #standard deviation\n",
        "\n",
        "# Step 2: Generate samples\n",
        "samples = norm.rvs(loc=mu, scale=sigma, size=1000)\n",
        "\n",
        "# Step 3: Plot histogram\n",
        "plt.hist(samples, bins=30, density=True, alpha=0.6, color='skyblue')\n",
        "\n",
        "# Step 4: Plot the theoretical PDF\n",
        "x = np.linspace(mu - 4*sigma, mu+ 3*sigma, 1000)\n",
        "pdf = norm.pdf(x, loc=mu, scale=sigma)\n",
        "plt.plot(x, pdf, 'r-', lw=2, label='Normal PDF')\n",
        "\n",
        "plt.title('Normal Distribution')\n",
        "plt.legend()\n",
        "plt.show()"
      ],
      "metadata": {
        "colab": {
          "base_uri": "https://localhost:8080/",
          "height": 452
        },
        "id": "Hqi_a8BK9qvB",
        "outputId": "c3c48f1f-9434-443a-bba6-89a4248fb5a4"
      },
      "execution_count": 13,
      "outputs": [
        {
          "output_type": "display_data",
          "data": {
            "text/plain": [
              "<Figure size 640x480 with 1 Axes>"
            ],
            "image/png": "[encoded data removed]"
          },
          "metadata": {}
        }
      ]
    },
    {
      "cell_type": "markdown",
      "source": [],
      "metadata": {
        "id": "xAt3fbKBAt1H"
      }
    },
    {
      "cell_type": "markdown",
      "source": [
        "🌟 Exercise 4: T-Test Application\n"
      ],
      "metadata": {
        "id": "S-wy5EifAt1v"
      }
    },
    {
      "cell_type": "code",
      "source": [
        "from scipy.stats import ttest_ind\n",
        "\n",
        "data1 = np.random.normal(50, 10, 100)\n",
        "data2 = np.random.normal(60, 10, 100)\n",
        "\n",
        "mean1 = np.mean(data1)\n",
        "mean2 = np.mean(data2)\n",
        "print(mean1)\n",
        "print(mean2)\n",
        "\n",
        "# Calculate standard deviation\n",
        "std1 = np.std(data1, ddof=1)\n",
        "std2 = np.std(data2, ddof=1)\n",
        "\n",
        "t_stat, p_val = ttest_ind(data1, data2)\n",
        "print(t_stat)\n",
        "print(p_val)\n"
      ],
      "metadata": {
        "colab": {
          "base_uri": "https://localhost:8080/"
        },
        "id": "km9xVSVjBUiB",
        "outputId": "79152b10-9bd8-497a-a1e9-9343c5a9a71e"
      },
      "execution_count": 19,
      "outputs": [
        {
          "output_type": "stream",
          "name": "stdout",
          "text": [
            "49.817796422417324\n",
            "59.56752807393656\n",
            "-7.128909179228494\n",
            "1.8487194215246035e-11\n"
          ]
        }
      ]
    },
    {
      "cell_type": "markdown",
      "source": [
        "🌟 Exercise 5: Linear Regression Analysis\n"
      ],
      "metadata": {
        "id": "GEJWKG45DFBp"
      }
    },
    {
      "cell_type": "code",
      "source": [
        "house_sizes = np.array([50, 70, 80, 100, 120])\n",
        "house_price = np.array([150000, 200000, 210000, 250000, 280000])\n",
        "x = house_sizes\n",
        "y = house_price\n",
        "\n",
        "slope, intercept, r_value, p_value, std_err = stats.linregress(x, y)\n",
        "print(\"Slope:\", slope)\n",
        "print(\"Intercept:\", intercept)\n",
        "\n",
        "predicted_prices = slope * 90 + intercept\n",
        "print(\"Predicted price for a house with 90 square feet:\", predicted_prices)"
      ],
      "metadata": {
        "colab": {
          "base_uri": "https://localhost:8080/"
        },
        "id": "Hw4NlPyHCVDV",
        "outputId": "385052a7-2332-44e9-f3c0-99567f64da36"
      },
      "execution_count": 22,
      "outputs": [
        {
          "output_type": "stream",
          "name": "stdout",
          "text": [
            "Slope: 1828.7671232876712\n",
            "Intercept: 64383.56164383562\n",
            "Predicted price for a house with 90 square feet: 228972.60273972602\n"
          ]
        }
      ]
    },
    {
      "cell_type": "markdown",
      "source": [
        "🌟 Exercise 6: Understanding ANOVA\n"
      ],
      "metadata": {
        "id": "ZuGW-9K4Lw2z"
      }
    },
    {
      "cell_type": "code",
      "source": [
        "fertilizer_1=[5, 6, 7, 6, 5]\n",
        "fertilizer_2=[7, 8, 7, 9, 8]\n",
        "fertilizer_3=[4, 5, 4, 3, 4]\n",
        "\n",
        "# Performing one-way ANOVA\n",
        "f_value, p_value = stats.f_oneway(fertilizer_1, fertilizer_2, fertilizer_3)\n",
        "print(\"F-value:\", f_value)\n",
        "print(\"P-value:\", p_value)"
      ],
      "metadata": {
        "colab": {
          "base_uri": "https://localhost:8080/"
        },
        "id": "YeQgOb8CO9D2",
        "outputId": "c362270e-7f4e-4e78-8997-38cb1b257d67"
      },
      "execution_count": 25,
      "outputs": [
        {
          "output_type": "stream",
          "name": "stdout",
          "text": [
            "F-value: 28.52631578947368\n",
            "P-value: 2.754267209804844e-05\n"
          ]
        }
      ]
    },
    {
      "cell_type": "markdown",
      "source": [
        "Based on the P-value, do the fertilizers have significantly different effects on plant growth?\n",
        "Answer: since the p-value is 2.75e-05 = 0.0000275 is much smaller than 0.05, we reject the null hypothesis, meaning that the fertilizers do have significantly different effects.\n"
      ],
      "metadata": {
        "id": "xyypldzHPuBs"
      }
    },
    {
      "cell_type": "code",
      "source": [],
      "metadata": {
        "id": "iRAhhZmEPCtj"
      },
      "execution_count": null,
      "outputs": []
    }
  ]
}